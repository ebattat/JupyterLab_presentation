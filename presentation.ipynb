{
 "cells": [
  {
   "cell_type": "code",
   "execution_count": null,
   "id": "361aa2ab-8a04-40c6-9a29-72c0c3b7fddc",
   "metadata": {
    "tags": []
   },
   "outputs": [],
   "source": [
    "# precondition\n",
    "!pip install folium\n",
    "!pip install bokeh\n",
    "!pip install ipywidgets\n",
    "!pip install matplotlib\n",
    "from IPython.display import IFrame\n",
    "from IPython.display import Image"
   ]
  },
  {
   "cell_type": "code",
   "execution_count": null,
   "id": "1b1093db-755c-432b-b760-a1513913a453",
   "metadata": {
    "tags": []
   },
   "outputs": [],
   "source": [
    "# Jupyter notebook overview inside sagemaker\n",
    "\n",
    "from IPython.display import Image\n",
    "Image(\"img/jupyter.jpg\")\n"
   ]
  },
  {
   "cell_type": "markdown",
   "id": "1dbb957e-27f3-482b-9b3c-eae9db376e1b",
   "metadata": {
    "tags": []
   },
   "source": [
    "---\n",
    "\n",
    "\n",
    "Agenda:\n",
    "\n",
    "* [Jupyterlab Notebook Overview](#JupyterLab-Notebook-Overview)\n",
    "    \n",
    "* [Jupyterlab Widgets Overview](#Jupyterlab-Widgets-Overview)\n",
    "\n",
    "* [Jupyterlab Visualization Overview](#Jupyterlab-Visualization-Overview)\n",
    "\n",
    "* [PerfCI Logs Analyzer](#Perfci-Logs-Analyzer)\n",
    "\n",
    "* [Q&A](#Q&A) \n",
    "---  \n",
    "    \n",
    "    \n"
   ]
  },
  {
   "cell_type": "code",
   "execution_count": null,
   "id": "62add394-b851-4aee-bb7c-f8ab971a8757",
   "metadata": {
    "tags": []
   },
   "outputs": [],
   "source": [
    "---\n",
    "\n",
    "# <a name=\"JupyterLab-Notebook-Overview\"></a>JupyterLab Notebook Overview"
   ]
  },
  {
   "cell_type": "markdown",
   "id": "96101466-39ef-46f8-92e2-10a2166c4bfa",
   "metadata": {
    "code_folding": [],
    "tags": []
   },
   "source": [
    "  ## Project Jupyter released in 2014, continuous of IPython Project\n",
    "    \n",
    "  ## Project Jupyter is a non-profit, open-source project\n",
    "    \n",
    "  ## The name comes from core languages: Julia, Python and R\n",
    "\n",
    "  ## Jupyter Notebook is cell oriented flow  \n",
    "\n",
    "  ## Main purpose: Minimize the “distance” between USER to DATA\n",
    "  "
   ]
  },
  {
   "cell_type": "code",
   "execution_count": null,
   "id": "354871c1-64bb-447d-bcb9-b95ea9ca93b2",
   "metadata": {
    "code_folding": [
     0
    ],
    "init_cell": true,
    "slideshow": {
     "slide_type": "-"
    },
    "tags": []
   },
   "outputs": [],
   "source": [
    "# ChatGPT description\n",
    "\n",
    "from IPython.display import Image\n",
    "Image(\"img/ChatGPT.png\")"
   ]
  },
  {
   "cell_type": "markdown",
   "id": "e062a22c-4dcf-40f5-9769-953cb5b1b045",
   "metadata": {
    "tags": []
   },
   "source": [
    "---\n",
    "\n",
    "# <a name=\"Jupyterlab-Widgets-Overview\"></a>Jupyterlab Widgets Overview"
   ]
  },
  {
   "cell_type": "code",
   "execution_count": null,
   "id": "69106b59-c1ca-4424-900d-03b2087675ae",
   "metadata": {
    "code_folding": [
     0
    ],
    "tags": []
   },
   "outputs": [],
   "source": [
    "# Widget\n",
    "# Why does displaying the same widget twice work?\n",
    "# Widgets are represented in the back-end by a single object. Each time a widget is displayed, \n",
    "# a new representation of that same object is created in the front-end. These representations are called views.\n",
    "## ipywidgets -  enable interactive data visualization in the Jupyter notebooks.\n",
    "from IPython.display import IFrame\n",
    "\n",
    "IFrame(src='https://miro.medium.com/v2/resize:fit:1400/1*3Gz1J2iyddYiL_uJTmZjXg.png', width=1000, height=500)"
   ]
  },
  {
   "cell_type": "markdown",
   "id": "0b64e669-0349-4d95-b1b8-cd1b6bb5d64f",
   "metadata": {},
   "source": [
    "### ipywidgets is a Python library for creating interactive widgets in Jupyter notebooks."
   ]
  },
  {
   "cell_type": "markdown",
   "id": "c1d876dd-6e0c-48f5-a550-2ab5cafc4994",
   "metadata": {
    "tags": []
   },
   "source": [
    "## Simple widgets"
   ]
  },
  {
   "cell_type": "code",
   "execution_count": null,
   "id": "83d39a1c-bfaf-4acc-8b54-1af52921e4d4",
   "metadata": {
    "tags": []
   },
   "outputs": [],
   "source": [
    "import ipywidgets as widgets\n",
    "# IntSlider horizontal\n",
    "int_slider = widgets.IntSlider(\n",
    "    value=7,\n",
    "    min=0,\n",
    "    max=10,\n",
    "    step=1,\n",
    "    description='VMs:',\n",
    "    disabled=False,\n",
    "    continuous_update=False,\n",
    "    orientation='horizontal',\n",
    "    readout=True,\n",
    "    readout_format='d'\n",
    ")\n",
    "display(int_slider)"
   ]
  },
  {
   "cell_type": "code",
   "execution_count": null,
   "id": "b7376c90-861a-4d8e-ba89-de560edf0b53",
   "metadata": {
    "tags": []
   },
   "outputs": [],
   "source": [
    "#IntRangeSlider\n",
    "int_range_slider = widgets.IntRangeSlider(\n",
    "    value=[5, 7],\n",
    "    min=0,\n",
    "    max=10,\n",
    "    step=1,\n",
    "    description='VMs:',\n",
    "    disabled=False,\n",
    "    continuous_update=False,\n",
    "    orientation='horizontal',\n",
    "    readout=True,\n",
    "    readout_format='d',\n",
    ")\n",
    "display(int_range_slider)"
   ]
  },
  {
   "cell_type": "code",
   "execution_count": null,
   "id": "95fd4057-ef42-4c0e-bc38-c2bc41a01727",
   "metadata": {
    "tags": []
   },
   "outputs": [],
   "source": [
    "#IntText\n",
    "int_text = widgets.IntText(\n",
    "    value=7,\n",
    "    description='VMs:',\n",
    "    disabled=False\n",
    ")\n",
    "display(int_text)"
   ]
  },
  {
   "cell_type": "code",
   "execution_count": null,
   "id": "0f419430-b6b6-4cc0-98de-c12f2ae4eaa7",
   "metadata": {
    "tags": []
   },
   "outputs": [],
   "source": [
    "#ToggleButton\n",
    "toggle_button = widgets.ToggleButton(\n",
    "    value=False,\n",
    "    description='Start VM',\n",
    "    disabled=False,\n",
    "    button_style='', # 'success', 'info', 'warning', 'danger' or ''\n",
    "    tooltip='Description',\n",
    "    icon=''\n",
    ")\n",
    "display(toggle_button)"
   ]
  },
  {
   "cell_type": "code",
   "execution_count": null,
   "id": "c19b459d-35a4-47b7-8d5c-6e6a7405ebb3",
   "metadata": {
    "tags": []
   },
   "outputs": [],
   "source": [
    "#Checkbox\n",
    "widgets.Checkbox(\n",
    "    value=False,\n",
    "    description='Check me',\n",
    "    disabled=False\n",
    ")"
   ]
  },
  {
   "cell_type": "code",
   "execution_count": null,
   "id": "2de3878a-8137-481b-a504-171287430320",
   "metadata": {
    "tags": []
   },
   "outputs": [],
   "source": [
    "# Dropdown\n",
    "widgets.Dropdown(\n",
    "    options=['1', '2', '3'],\n",
    "    value='2',\n",
    "    description='Number:',\n",
    "    disabled=False,\n",
    ")"
   ]
  },
  {
   "cell_type": "code",
   "execution_count": null,
   "id": "1d96ab9f-aa5c-4254-9cd8-b272978a599f",
   "metadata": {
    "tags": []
   },
   "outputs": [],
   "source": [
    "#RadioButtons\n",
    "widgets.RadioButtons(\n",
    "    options=['POD', 'KATA', 'VM'],\n",
    "    value='VM',\n",
    "    description='Type: ',\n",
    "    disabled=False\n",
    ")"
   ]
  },
  {
   "cell_type": "code",
   "execution_count": null,
   "id": "fe1b7fda-e7d2-47fe-97b5-f172da48935c",
   "metadata": {
    "tags": []
   },
   "outputs": [],
   "source": [
    "#Select\n",
    "widgets.Select(\n",
    "    options=['POD', 'KATA', 'VM'],\n",
    "    value='VM',\n",
    "    # rows=10,\n",
    "    description='TYPE:',\n",
    "    disabled=False\n",
    ")"
   ]
  },
  {
   "cell_type": "code",
   "execution_count": null,
   "id": "3e0d785e-4d2e-4f5e-90a8-1ad8a856efbb",
   "metadata": {
    "tags": []
   },
   "outputs": [],
   "source": [
    "#widgets.Textarea\n",
    "widgets.Textarea(\n",
    "    value='Hello Perf department',\n",
    "    placeholder='Type something',\n",
    "    description='String:',\n",
    "    disabled=False\n",
    ")"
   ]
  },
  {
   "cell_type": "code",
   "execution_count": null,
   "id": "360c0e19-4efc-46ce-a6f6-20f190cc209d",
   "metadata": {
    "tags": []
   },
   "outputs": [],
   "source": [
    "# Updating a widget in the background - threading\n",
    "import threading\n",
    "from IPython.display import display\n",
    "import ipywidgets as widgets\n",
    "import time\n",
    "progress = widgets.FloatProgress(value=0.0, min=0.0, max=1.0)\n",
    "\n",
    "def work(progress):\n",
    "    total = 10\n",
    "    for i in range(total):\n",
    "        time.sleep(0.2)\n",
    "        progress.value = float(i+1)/total\n",
    "\n",
    "thread = threading.Thread(target=work, args=(progress,))\n",
    "display(progress)\n",
    "thread.start()"
   ]
  },
  {
   "cell_type": "code",
   "execution_count": null,
   "id": "214b68f8-3b24-4a36-8703-adce2f517a82",
   "metadata": {
    "tags": []
   },
   "outputs": [],
   "source": [
    "# Play (Animation) widget\n",
    "play = widgets.Play(\n",
    "    #interval=10,\n",
    "    value=1,\n",
    "    min=0,\n",
    "    max=100,\n",
    "    step=1,\n",
    "    description=\"Press play\",\n",
    "    disabled=False\n",
    ")\n",
    "      \n",
    "\n",
    "slider = widgets.IntSlider()\n",
    "widgets.jslink((play, 'value'), (slider, 'value'))\n",
    "play = widgets.HBox([play, slider])\n",
    "display(play)"
   ]
  },
  {
   "cell_type": "code",
   "execution_count": null,
   "id": "94aaa62a-c560-4dc5-9208-74663a513143",
   "metadata": {
    "tags": []
   },
   "outputs": [],
   "source": [
    "# DatePicker\n",
    "widgets.DatePicker(\n",
    "    description='Pick a Date',\n",
    "    disabled=False\n",
    ")"
   ]
  },
  {
   "cell_type": "code",
   "execution_count": null,
   "id": "69a3939c-f8de-4c08-bc4f-dbb5f190403a",
   "metadata": {
    "tags": []
   },
   "outputs": [],
   "source": [
    "#ColorPicker\n",
    "widgets.ColorPicker(\n",
    "    concise=False,\n",
    "    description='Pick a color',\n",
    "    value='blue',\n",
    "    disabled=False\n",
    ")"
   ]
  },
  {
   "cell_type": "code",
   "execution_count": null,
   "id": "77a1821a-4272-4ebf-92ce-2d1781767f36",
   "metadata": {
    "tags": []
   },
   "outputs": [],
   "source": [
    "#ToggleButtons\n",
    "toggle_button = widgets.ToggleButtons(\n",
    "    options=['Pod', 'kata', 'VM'],\n",
    "    description='TYPE:',\n",
    "    disabled=False,\n",
    "    button_style='success', # 'success', 'info', 'warning', 'danger' or ''\n",
    "    tooltips=['Description of pod', 'Description of kata', 'Description of vm'],\n",
    "#     icons=['check'] * 3\n",
    ")\n",
    "colors= {0:'success', 1:'info', 2:'warning', 3:'danger', 4:''}\n",
    "def on_click(change):\n",
    "    print('pressed: '  + change['new'])\n",
    "    toggle_button.button_style='info'\n",
    "    \n",
    "display(toggle_button)\n",
    "toggle_button.observe(on_click, 'value')"
   ]
  },
  {
   "cell_type": "markdown",
   "id": "d377aeea-1a85-4c0f-9551-b7fa0f64657b",
   "metadata": {
    "tags": []
   },
   "source": [
    "## Complex widgets"
   ]
  },
  {
   "cell_type": "code",
   "execution_count": null,
   "id": "858a446b-ca7d-4bb0-a23e-eacd01597c90",
   "metadata": {
    "tags": []
   },
   "outputs": [],
   "source": [
    "#accordion\n",
    "accordion = widgets.Accordion(children=[widgets.IntSlider(), widgets.Text()])\n",
    "accordion.set_title(0, 'Train')\n",
    "accordion.set_title(1, 'Model')\n",
    "accordion"
   ]
  },
  {
   "cell_type": "code",
   "execution_count": null,
   "id": "d9f971d1-a5be-4410-bcc5-745d50e83172",
   "metadata": {
    "tags": []
   },
   "outputs": [],
   "source": [
    "#Tabs\n",
    "\n",
    "tab_contents = ['Model1', 'Model2', 'Model3', 'Model4', 'Model5']\n",
    "children = [widgets.Text(description=name) for name in tab_contents]\n",
    "tab = widgets.Tab()\n",
    "tab.children = children\n",
    "for i in range(len(children)):\n",
    "    tab.set_title(i, 'model' + str(i+1))\n",
    "tab"
   ]
  },
  {
   "cell_type": "code",
   "execution_count": null,
   "id": "7b0898db-88db-4346-aa79-f166ae81d75d",
   "metadata": {
    "tags": []
   },
   "outputs": [],
   "source": [
    "# carousel\n",
    "from ipywidgets import Layout, Button, Box, VBox, Label\n",
    "\n",
    "item_layout = Layout(height='100px', min_width='100px')\n",
    "items = [Button(layout=item_layout, description='model_' + str(i), button_style='warning') for i in range(40)]\n",
    "box_layout = Layout(overflow_x='scroll',\n",
    "                    border='3px solid black',\n",
    "                    width='500px',\n",
    "                    height='',\n",
    "                    flex_flow='row',\n",
    "                    display='flex')\n",
    "carousel = Box(children=items, layout=box_layout)\n",
    "VBox([Label('Models store:'), carousel])"
   ]
  },
  {
   "cell_type": "code",
   "execution_count": null,
   "id": "2fa5ad88-b934-4f8d-9439-3fb09c1277b4",
   "metadata": {
    "tags": []
   },
   "outputs": [],
   "source": [
    "#box layout\n",
    "from ipywidgets import Layout, Button, Box\n",
    "items_layout = Layout( width='auto')     # override the default width of the button to 'auto' to let the button grow\n",
    "\n",
    "box_layout = Layout(display='flex',\n",
    "                    flex_flow='column',\n",
    "                    align_items='stretch',\n",
    "                    border='solid',\n",
    "                    width='20%')\n",
    "\n",
    "words = [ 'm5.large','m5.xlarge', 'm5.2xlarge', 'm5.4xlarge']\n",
    "items = [Button(description=word, layout=items_layout, button_style='danger') for word in words]\n",
    "box = Box(children=items, layout=box_layout)\n",
    "box"
   ]
  },
  {
   "cell_type": "code",
   "execution_count": null,
   "id": "968d3e5a-c00f-480e-af71-5c6f284c2cf9",
   "metadata": {
    "tags": []
   },
   "outputs": [],
   "source": [
    "#form\n",
    "from ipywidgets import Layout, Button, Box, FloatText, Textarea, Dropdown, Label, IntSlider\n",
    "\n",
    "form_item_layout = Layout(\n",
    "    display='flex',\n",
    "    flex_flow='row',\n",
    "    justify_content='space-between',\n",
    "    width='auto'\n",
    ")\n",
    "\n",
    "form_items = [\n",
    "    Box([Label(value='Number of ec2'), IntSlider(min=40, max=60)], layout=form_item_layout),\n",
    "    Box([Label(value='Size'),\n",
    "         Dropdown(options=['large', 'xlarge', '2xlarge','4xlarge'])], layout=form_item_layout),\n",
    "    Box([Label(value='Model name'),\n",
    "         FloatText()], layout=form_item_layout),\n",
    "    Box([Label(value='Description'),\n",
    "         Textarea()], layout=form_item_layout)\n",
    "]\n",
    "\n",
    "form = Box(form_items, layout=Layout(\n",
    "    display='flex',\n",
    "    flex_flow='column',\n",
    "    border='solid 2px',\n",
    "    align_items='stretch',\n",
    "    width='400px'\n",
    "))\n",
    "form"
   ]
  },
  {
   "cell_type": "code",
   "execution_count": null,
   "id": "15ee62d9-a23e-46cb-bd9b-13eb103a9ff8",
   "metadata": {
    "tags": []
   },
   "outputs": [],
   "source": [
    "#GridBox\n",
    "from ipywidgets import Button, GridBox, Layout, ButtonStyle\n",
    "\n",
    "header  = Button(description='Workloads',\n",
    "                 layout=Layout(width='auto', grid_area='header'),\n",
    "                 style=ButtonStyle(button_color='lightblue'))\n",
    "main    = Button(description='Vdbench',\n",
    "                 layout=Layout(width='auto', grid_area='main'),\n",
    "                 style=ButtonStyle(button_color='moccasin'))\n",
    "sidebar = Button(description='Bootstorm',\n",
    "                 layout=Layout(width='auto', grid_area='sidebar'),\n",
    "                 style=ButtonStyle(button_color='salmon'))\n",
    "footer  = Button(description='Benchmark-runner framework',\n",
    "                 layout=Layout(width='auto', grid_area='footer'),\n",
    "                 style=ButtonStyle(button_color='olive'))\n",
    "\n",
    "GridBox(children=[header, main, sidebar, footer],\n",
    "        layout=Layout(\n",
    "            width='75%',\n",
    "            grid_template_rows='auto auto auto',\n",
    "            grid_template_columns='25% 25% 25% 25%',\n",
    "            grid_template_areas='''\n",
    "            \"header header header header\"\n",
    "            \"main main . sidebar \"\n",
    "            \"footer footer footer footer\"\n",
    "            ''')\n",
    "       )"
   ]
  },
  {
   "cell_type": "markdown",
   "id": "2fb32631-9795-4279-97f9-18b20831ce52",
   "metadata": {
    "tags": []
   },
   "source": [
    "---\n",
    "\n",
    "# <a name=\"Jupyterlab-Visualization-Overview\"></a>Jupyterlab Visualization Overview"
   ]
  },
  {
   "cell_type": "markdown",
   "id": "ab2c5154-b351-411b-8144-4b9180595052",
   "metadata": {
    "jp-MarkdownHeadingCollapsed": true,
    "tags": []
   },
   "source": [
    "#  The Python Visualization Landscape\n",
    "\n",
    "\n",
    "![Python Landscape](./img/python_viz_landscape.png)\n"
   ]
  },
  {
   "cell_type": "markdown",
   "id": "ee0c2e4e-ca1b-43ac-b117-1a5ff7beef11",
   "metadata": {
    "tags": []
   },
   "source": [
    "# Motivation\n",
    "\n",
    "\n",
    "|Not This|This|\n",
    "|:--------------------------:|:-----------------------------------------:|\n",
    "|![from](img/matplotlib_barchart.png)  |  ![to](img/pixijs-jupyterlab.gif)|"
   ]
  },
  {
   "cell_type": "markdown",
   "id": "4eb26d03-024f-47a6-a501-a19d26a37991",
   "metadata": {
    "tags": []
   },
   "source": [
    "## Matplotlib Library"
   ]
  },
  {
   "cell_type": "code",
   "execution_count": null,
   "id": "07d0569c-ec65-4c98-ab06-bea60e10c268",
   "metadata": {
    "code_folding": [
     0
    ],
    "tags": []
   },
   "outputs": [],
   "source": [
    "# Sample plots in Matplotlib\n",
    "import ipywidgets as widgets\n",
    "import matplotlib.pyplot as plt\n",
    "import numpy as np\n",
    "\n",
    "np.random.seed(19680801)\n",
    "data = np.random.randn(2, 100)\n",
    "\n",
    "fig, axs = plt.subplots(2, 2, figsize=(5, 5))\n",
    "axs[0, 0].hist(data[0])\n",
    "axs[1, 0].scatter(data[0], data[1])\n",
    "axs[0, 1].plot(data[0], data[1])\n",
    "axs[1, 1].hist2d(data[0], data[1])\n",
    "\n",
    "plt.show()"
   ]
  },
  {
   "cell_type": "code",
   "execution_count": null,
   "id": "0b73ad62-da36-4ede-975f-90952f0760d0",
   "metadata": {
    "tags": []
   },
   "outputs": [],
   "source": [
    "from mpl_toolkits.mplot3d import Axes3D\n",
    "import matplotlib.pyplot as plt\n",
    "\n",
    "fig = plt.figure()\n",
    "ax = fig.add_subplot(111, projection='3d')\n",
    "\n",
    "x =[1,2,3,4,5,6,7,8,9,10]\n",
    "y =[5,6,2,3,13,4,1,2,4,8]\n",
    "z =[2,3,3,3,5,7,9,11,9,10]\n",
    "\n",
    "ax.scatter(x, y, z, c='r', marker='o')\n",
    "\n",
    "ax.set_xlabel('X Label')\n",
    "ax.set_ylabel('Y Label')\n",
    "ax.set_zlabel('Z Label')\n",
    "\n",
    "plt.show()"
   ]
  },
  {
   "cell_type": "markdown",
   "id": "c630b7fa-384b-45d7-80c5-5b20a50b0716",
   "metadata": {
    "tags": []
   },
   "source": [
    "# JavaScript Libraries"
   ]
  },
  {
   "cell_type": "markdown",
   "id": "fcee7a2d-1122-4fde-b8e1-fbf08b74b7e6",
   "metadata": {},
   "source": [
    "## GEOlocations: folium"
   ]
  },
  {
   "cell_type": "code",
   "execution_count": null,
   "id": "a2a0dc74-705f-4d6b-98d5-8f79b4e7557d",
   "metadata": {
    "tags": []
   },
   "outputs": [],
   "source": [
    "import folium\n",
    "from folium.plugins import BeautifyIcon\n",
    "\n",
    "m = folium.Map(location=[32.197521, 34.883004], zoom_start=11, tiles=\"OpenStreetMap\")\n",
    "\n",
    "points = [[32.186006555876496, 34.854474379700505, 'Redhat Gamla Building'],\n",
    "          [32.104004, 34.873645, 'Home']]\n",
    "\n",
    "for i in range(len(points) - 1):\n",
    "    start = points[i][:2]\n",
    "    end = points[i+1][:2]\n",
    "    folium.Marker(start, popup=f'<i>{points[i][2]}</i>', tooltip=points[i][2],\n",
    "                  icon=folium.CustomIcon('img/redhat_logo.png', icon_size=(40, 40))).add_to(m)\n",
    "    folium.PolyLine([start, end]).add_to(m)\n",
    "\n",
    "folium.Marker(end, popup=f'<i>{points[-1][2]}</i>', tooltip=points[-1][2],\n",
    "              icon=folium.CustomIcon('img/home.png', icon_size=(40, 40))).add_to(m)\n",
    "\n",
    "m\n"
   ]
  },
  {
   "cell_type": "markdown",
   "id": "30709d9b-9fe5-4c19-b13b-58ab011277d7",
   "metadata": {
    "tags": []
   },
   "source": [
    "## GEOlocations: folium -  NYC bike sharing program [Interactive Maps]"
   ]
  },
  {
   "cell_type": "code",
   "execution_count": null,
   "id": "929a1a38-5f31-4330-8c69-26cc751134a9",
   "metadata": {
    "tags": []
   },
   "outputs": [],
   "source": [
    "#map video - reference https://blog.prototypr.io/interactive-maps-with-python-part-1-aa1563dbe5a9\n",
    "from IPython.display import HTML\n",
    "\n",
    "HTML('<iframe src=\"https://player.vimeo.com/video/250033884?title=0&byline=0&portrait=0\" width=\"700\" height=\"394\" frameborder=\"0\" webkitallowfullscreen mozallowfullscreen allowfullscreen></iframe><p><a href=\"https://vimeo.com/26763844\">BAXTER DURY - CLAIRE (Dir Cut)</a> from <a href=\"https://vimeo.com/dannysangra\">Danny Sangra</a> on <a href=\"https://vimeo.com\">Vimeo</a>.</p>')\n"
   ]
  },
  {
   "cell_type": "markdown",
   "id": "0e6ba619-c13a-440f-9944-839dc500e446",
   "metadata": {
    "tags": []
   },
   "source": [
    "## GEOlocations: ipyleaflet\n",
    "\n",
    "![ipyleaflet](./img/ipyleaflet.gif)"
   ]
  },
  {
   "cell_type": "markdown",
   "id": "f93c081c-bea8-4473-b5dc-dfced752af9a",
   "metadata": {
    "tags": []
   },
   "source": [
    "## Bokeh"
   ]
  },
  {
   "cell_type": "code",
   "execution_count": null,
   "id": "d40bc420-ac5d-4da2-8b27-ab01f49a6427",
   "metadata": {
    "tags": []
   },
   "outputs": [],
   "source": [
    "IFrame(src='https://bokeh.org', width=1000, height=500)"
   ]
  },
  {
   "cell_type": "markdown",
   "id": "3ae73d48-e1eb-466d-b10e-a909c84caf2d",
   "metadata": {},
   "source": [
    "## Interactive scatter bar"
   ]
  },
  {
   "cell_type": "code",
   "execution_count": null,
   "id": "2b9c1c50-c9db-4f51-8fc3-204a3ad9dbfb",
   "metadata": {
    "tags": []
   },
   "outputs": [],
   "source": [
    "from bokeh.models import ColumnDataSource, Whisker, HoverTool\n",
    "from bokeh.plotting import figure, show\n",
    "from bokeh.transform import jitter, factor_cmap\n",
    "from bokeh.sampledata.autompg2 import autompg2 as df\n",
    "from bokeh.plotting import figure, show\n",
    "from bokeh.io import output_notebook\n",
    "\n",
    "classes = list(sorted(df[\"class\"].unique()))\n",
    "color_palette = [\"red\", \"green\", \"blue\", \"orange\", \"purple\", \"gold\", \"brown\"]\n",
    "\n",
    "p = figure(height=400, x_range=classes, background_fill_color=\"#efefef\",\n",
    "           title=\"Car class vs HWY mpg with quintile ranges\")\n",
    "p.xgrid.grid_line_color = None\n",
    "\n",
    "g = df.groupby(\"class\")\n",
    "upper = g.hwy.quantile(0.80)\n",
    "lower = g.hwy.quantile(0.20)\n",
    "source = ColumnDataSource(data=dict(base=classes, upper=upper, lower=lower))\n",
    "\n",
    "error = Whisker(base=\"base\", upper=\"upper\", lower=\"lower\", source=source,\n",
    "                level=\"annotation\", line_width=2)\n",
    "error.upper_head.size = 20\n",
    "error.lower_head.size = 20\n",
    "p.add_layout(error)\n",
    "\n",
    "hover = HoverTool(tooltips=[(\"Class\", \"@class\"), (\"Highway MPG\", \"@hwy\")])  # Define tooltips\n",
    "p.add_tools(hover)  # Add tooltips to the plot\n",
    "\n",
    "p.circle(jitter(\"class\", 0.3, range=p.x_range), \"hwy\", source=df,\n",
    "         alpha=0.5, size=13, line_color=\"white\",\n",
    "         color=factor_cmap(\"class\", palette=color_palette, factors=classes))\n",
    "\n",
    "output_notebook()\n",
    "show(p)\n"
   ]
  },
  {
   "cell_type": "markdown",
   "id": "187f0749-5baa-4306-875a-cccbc6099076",
   "metadata": {
    "tags": []
   },
   "source": [
    "\n",
    "# 3D & Play data Libraries\n",
    "\n",
    "## bqplot\n",
    "\n",
    "![bqplot](./img/bqplot.gif)\n",
    "\n",
    "## ipyvolume\n",
    "\n",
    "![ipyvolume](./img/ipyvolume.gif)\n",
    "\n",
    "# Tutorial to create your own\n",
    "\n",
    "## https://ipywidgets.readthedocs.io/en/stable/examples/Widget%20Custom.html"
   ]
  },
  {
   "cell_type": "markdown",
   "id": "b4566722-eda1-45de-8cdc-0342d8c9b474",
   "metadata": {
    "tags": []
   },
   "source": [
    "---\n",
    "\n",
    "# <a name=\"Perfci-Logs-Analyzer\"></a>PerfCI Logs Analyzer"
   ]
  },
  {
   "cell_type": "markdown",
   "id": "bcf33cb0-587c-456b-b3e8-7104160c8c78",
   "metadata": {
    "tags": []
   },
   "source": [
    "## How are we using JupyterLab/Widgets for analyzing/visualizing PerfCI logs ?"
   ]
  },
  {
   "cell_type": "code",
   "execution_count": null,
   "id": "74f0a915-dec6-480e-b46f-a77b7bdbd938",
   "metadata": {
    "jupyter": {
     "source_hidden": true
    },
    "tags": []
   },
   "outputs": [],
   "source": [
    "from IPython.display import Image\n",
    "Image(\"img/perfci.jpg\")"
   ]
  },
  {
   "cell_type": "markdown",
   "id": "ce9c23c4-ba6b-4b66-a778-233ca3e90cfe",
   "metadata": {},
   "source": [
    "## * [PerfCi Templates](https://github.com/redhat-performance/benchmark-runner/tree/main/benchmark_runner/jupyterlab/templates)"
   ]
  },
  {
   "cell_type": "markdown",
   "id": "bbefe242-a28a-42ea-a2c0-b160ba7d88e3",
   "metadata": {
    "tags": []
   },
   "source": [
    "## Binder Turn a Git repo into a collection of interactive notebooks"
   ]
  },
  {
   "cell_type": "code",
   "execution_count": null,
   "id": "cdfef9ec-c394-48ee-8c9d-0dcb59e791c8",
   "metadata": {
    "tags": []
   },
   "outputs": [],
   "source": [
    "from IPython.display import IFrame\n",
    "IFrame(src='https://mybinder.org/', width=1000, height=500)"
   ]
  },
  {
   "cell_type": "markdown",
   "id": "d48e500c-4438-4720-b4d5-26e065965eaa",
   "metadata": {
    "tags": []
   },
   "source": [
    "## * [Run on Binder](https://mybinder.org/v2/gh/ebattat/JupyterLab_presentation/main?labpath=presentation.ipynb)"
   ]
  },
  {
   "cell_type": "raw",
   "id": "5170ea64-39f8-4af3-8143-ebc1d679929c",
   "metadata": {},
   "source": [
    "https://mybinder.org/v2/gh/ebattat/JupyterLab_presentation/main?labpath=presentation.ipynb"
   ]
  },
  {
   "cell_type": "markdown",
   "id": "e3d130f7-75fc-4e4e-8f70-a2c504fd6b69",
   "metadata": {
    "tags": []
   },
   "source": [
    "---\n",
    "\n",
    "# <a name=\"Q&A\"></a>Q&A"
   ]
  },
  {
   "cell_type": "code",
   "execution_count": null,
   "id": "0c4866fb-12ac-4db2-87dc-e06f90275a42",
   "metadata": {
    "jupyter": {
     "source_hidden": true
    },
    "tags": []
   },
   "outputs": [],
   "source": [
    "from IPython.display import Image\n",
    "Image(\"img/q&a.gif\")\n"
   ]
  },
  {
   "cell_type": "code",
   "execution_count": null,
   "id": "25372b87-baae-4ef9-8636-2546ebda555a",
   "metadata": {},
   "outputs": [],
   "source": []
  }
 ],
 "metadata": {
  "kernelspec": {
   "display_name": "Python 3 (ipykernel)",
   "language": "python",
   "name": "python3"
  },
  "language_info": {
   "codemirror_mode": {
    "name": "ipython",
    "version": 3
   },
   "file_extension": ".py",
   "mimetype": "text/x-python",
   "name": "python",
   "nbconvert_exporter": "python",
   "pygments_lexer": "ipython3",
   "version": "3.11.4"
  }
 },
 "nbformat": 4,
 "nbformat_minor": 5
}
